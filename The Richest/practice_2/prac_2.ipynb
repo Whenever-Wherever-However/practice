{
 "cells": [
  {
   "cell_type": "code",
   "execution_count": 3,
   "source": [
    "import pandas as pd"
   ],
   "outputs": [],
   "metadata": {}
  },
  {
   "cell_type": "code",
   "execution_count": 4,
   "source": [
    "#written at 20210921 16:56\r\n",
    "#written at 20210921 17:03\r\n",
    "#written at 20210921 17:10\r\n",
    "\r\n"
   ],
   "outputs": [],
   "metadata": {}
  },
  {
   "cell_type": "markdown",
   "source": [],
   "metadata": {}
  },
  {
   "cell_type": "code",
   "execution_count": null,
   "source": [],
   "outputs": [],
   "metadata": {}
  }
 ],
 "metadata": {
  "orig_nbformat": 4,
  "language_info": {
   "name": "python",
   "version": "3.7.11",
   "mimetype": "text/x-python",
   "codemirror_mode": {
    "name": "ipython",
    "version": 3
   },
   "pygments_lexer": "ipython3",
   "nbconvert_exporter": "python",
   "file_extension": ".py"
  },
  "kernelspec": {
   "name": "python3",
   "display_name": "Python 3.7.11 32-bit ('[Trading_system]': conda)"
  },
  "interpreter": {
   "hash": "1380119279bfd490cbf1d1c2c6d43168262c4b12deef77ad5ddb89c85c8ca54a"
  }
 },
 "nbformat": 4,
 "nbformat_minor": 2
}